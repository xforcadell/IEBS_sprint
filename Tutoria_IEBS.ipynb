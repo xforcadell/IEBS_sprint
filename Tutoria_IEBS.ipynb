{
 "cells": [
  {
   "cell_type": "code",
   "execution_count": 6,
   "id": "b73cc024",
   "metadata": {},
   "outputs": [
    {
     "ename": "IndentationError",
     "evalue": "unindent does not match any outer indentation level (<tokenize>, line 12)",
     "output_type": "error",
     "traceback": [
      "\u001b[0;36m  File \u001b[0;32m<tokenize>:12\u001b[0;36m\u001b[0m\n\u001b[0;31m    if float(row[14]) > 20 and float(row[14]) < 44 and row[15] == \"Cash\":\u001b[0m\n\u001b[0m    ^\u001b[0m\n\u001b[0;31mIndentationError\u001b[0m\u001b[0;31m:\u001b[0m unindent does not match any outer indentation level\n"
     ]
    }
   ],
   "source": [
    "import csv\n",
    "\n",
    "with open('Taxis.csv') as csvfile:\n",
    "    csv reader = csv.reader (csvfile, delimiter=',')\n",
    "    count = 0\n",
    "    count_trips = 0\n",
    "    taxi_ids = []\n",
    "    for row in csv_reader:\n",
    "       if count == 0:\n",
    "          count = count + 1\n",
    "          continue\n",
    "        if float(row[14]) > 20 and float(row[14]) < 44 and row[15] == \"Cash\":\n",
    "            if row[1] not in taxi_ids:\n",
    "                count_trips = count_trips + 1\n",
    "                taxi_ids.append(row[1])\n",
    "    print(count_trips)\n",
    "        \n",
    "        \n",
    "        "
   ]
  },
  {
   "cell_type": "code",
   "execution_count": null,
   "id": "e08653b2",
   "metadata": {},
   "outputs": [],
   "source": []
  }
 ],
 "metadata": {
  "kernelspec": {
   "display_name": "Python 3 (ipykernel)",
   "language": "python",
   "name": "python3"
  },
  "language_info": {
   "codemirror_mode": {
    "name": "ipython",
    "version": 3
   },
   "file_extension": ".py",
   "mimetype": "text/x-python",
   "name": "python",
   "nbconvert_exporter": "python",
   "pygments_lexer": "ipython3",
   "version": "3.9.12"
  }
 },
 "nbformat": 4,
 "nbformat_minor": 5
}
